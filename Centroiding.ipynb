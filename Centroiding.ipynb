{
 "cells": [
  {
   "cell_type": "code",
   "execution_count": 1,
   "id": "fcd42e06-b949-4977-9a72-37d73c404952",
   "metadata": {},
   "outputs": [
    {
     "data": {
      "text/plain": [
       "['./JC_Gust_250512_Feb_BuOH_120h_GD5_01_78667.mzML',\n",
       " './JC_Gust_250512_Feb_BuOH_72h_GD4_01_78666.mzML',\n",
       " './JC_Gust_250512_Jan_BuOH_120h_GC7_01_78660.mzML',\n",
       " './JC_Gust_250512_Jan_BuOH_72h_GC6_01_78659.mzML',\n",
       " './JC_Gust_250512_Nov_BuOH_144h_GB4_01_78648.mzML']"
      ]
     },
     "execution_count": 1,
     "metadata": {},
     "output_type": "execute_result"
    }
   ],
   "source": [
    "import pyopenms as oms\n",
    "import os\n",
    "import fnmatch\n",
    "data_list=[]\n",
    "pattern = '*.mzML'\n",
    "for root, dirs, files in os.walk(\"./Original\"):\n",
    "    for name in files:\n",
    "        if fnmatch.fnmatch(name, pattern):\n",
    "            data_list.append(os.path.join(root, name))\n",
    "mzML_files = data_list\n",
    "mzML_files"
   ]
  },
  {
   "cell_type": "code",
   "execution_count": 3,
   "id": "d2944b68-7eca-4524-9c16-f867277d5045",
   "metadata": {},
   "outputs": [],
   "source": [
    "for file in mzML_files:\n",
    "    exp = oms.MSExperiment()\n",
    "    oms.MzMLFile().load(file, exp)\n",
    "    exp.sortSpectra(True)\n",
    "    exp.setMetaValue(\"mzML_path\", file)\n",
    "    centroided_spectra = oms.MSExperiment()\n",
    "    oms.PeakPickerHiRes().pickExperiment(exp, centroided_spectra, True)\n",
    "    oms.MzMLFile().store(\"./Centroided/\" + file[:-5] + \"_centroided.mzML\", centroided_spectra)"
   ]
  },
  {
   "cell_type": "code",
   "execution_count": null,
   "id": "e0e84802-02c8-47ea-bda5-eed1c302f524",
   "metadata": {},
   "outputs": [],
   "source": []
  }
 ],
 "metadata": {
  "kernelspec": {
   "display_name": "Python [conda env:base] *",
   "language": "python",
   "name": "conda-base-py"
  },
  "language_info": {
   "codemirror_mode": {
    "name": "ipython",
    "version": 3
   },
   "file_extension": ".py",
   "mimetype": "text/x-python",
   "name": "python",
   "nbconvert_exporter": "python",
   "pygments_lexer": "ipython3",
   "version": "3.12.7"
  }
 },
 "nbformat": 4,
 "nbformat_minor": 5
}
