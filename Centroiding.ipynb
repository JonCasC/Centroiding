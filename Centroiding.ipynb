{
 "cells": [
  {
   "cell_type": "code",
   "execution_count": null,
   "id": "fcd42e06-b949-4977-9a72-37d73c404952",
   "metadata": {},
   "outputs": [],
   "source": [
    "import os\n",
    "\n",
    "output_dir = \"./Centroided\"\n",
    "os.makedirs(output_dir, exist_ok=True)\n",
    "\n",
    "mzML_files = []\n",
    "for root, dirs, files in os.walk(\"./Original\"):\n",
    "    for name in files:\n",
    "        if os.path.splitext(name)[1].lower() == '.mzml':\n",
    "            mzML_files.append(os.path.join(root, name))\n",
    "\n",
    "mzML_files"
   ]
  },
  {
   "cell_type": "code",
   "execution_count": null,
   "id": "d2944b68-7eca-4524-9c16-f867277d5045",
   "metadata": {},
   "outputs": [],
   "source": [
    "import pyopenms as oms\n",
    "from tqdm import tqdm\n",
    "\n",
    "print(f\"{len(mzML_files)} spectra found\\nBegin centroiding\")\n",
    "\n",
    "\n",
    "for file_name in tqdm(mzML_files):\n",
    "    exp = oms.MSExperiment()\n",
    "    oms.MzMLFile().load(file_name, exp)\n",
    "    exp.sortSpectra(True)\n",
    "    exp.setMetaValue(\"mzML_path\", file_name)\n",
    "    centroided_spectra = oms.MSExperiment()\n",
    "    oms.PeakPickerHiRes().pickExperiment(exp, centroided_spectra, True)\n",
    "    base_name = os.path.splitext(os.path.basename(file_name))[0]\n",
    "    output_path = os.path.join(output_dir, f\"{base_name}_centroided.mzML\")\n",
    "    oms.MzMLFile().store(output_path, centroided_spectra)\n",
    "    del exp\n",
    "\n",
    "print(f\"Successfully centroided {len(mzML_files)} spectra!\")"
   ]
  },
  {
   "cell_type": "code",
   "execution_count": null,
   "id": "e0e84802-02c8-47ea-bda5-eed1c302f524",
   "metadata": {},
   "outputs": [],
   "source": []
  }
 ],
 "metadata": {
  "kernelspec": {
   "display_name": "Python [conda env:base] *",
   "language": "python",
   "name": "conda-base-py"
  },
  "language_info": {
   "codemirror_mode": {
    "name": "ipython",
    "version": 3
   },
   "file_extension": ".py",
   "mimetype": "text/x-python",
   "name": "python",
   "nbconvert_exporter": "python",
   "pygments_lexer": "ipython3",
   "version": "3.12.7"
  }
 },
 "nbformat": 4,
 "nbformat_minor": 5
}
